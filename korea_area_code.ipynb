{
 "cells": [
  {
   "cell_type": "markdown",
   "metadata": {},
   "source": [
    "# 행정동 데이터, 법정동 데이터 다루기"
   ]
  },
  {
   "cell_type": "markdown",
   "metadata": {},
   "source": [
    "## 행정동과 법정동 차이\n",
    "\n",
    "__행정동__\n",
    "- 우리가 평소에 쓰고 있는 주소에 쓰이는 것\n",
    "- 행정편의를 위해 쓰임\n",
    "- 법정동에 비해 쉽게 이름이 바뀌거나 없어지거나 생길 수 있음\n",
    "\n",
    "__법정동__\n",
    "- 일상생활에서는 잘 쓰이지 않음\n",
    "- 법률 행위 등에 쓰이며, 특히 부동산에서 쓰임"
   ]
  },
  {
   "cell_type": "markdown",
   "metadata": {},
   "source": [
    "## 행정동 데이터 얻기\n",
    "\n",
    "- 엑셀 파일 다운받기: [통계분류포털](https://kssc.kostat.go.kr:8443/ksscNew_web/index.jsp#)에서 얻을 수 있다\n",
    "- API 이용: [관련 자료](http://sgis.kostat.go.kr/OpenAPI2/subpage/openAPI2_10.jsp#) 참고\n",
    "- [url](http://sgis.kostat.go.kr/OpenAPI2/upload/unitarea_code.xls)로 바로 접근 ( _2013년까지의 데이터만 존재하는 것 같은데??_ )"
   ]
  },
  {
   "cell_type": "markdown",
   "metadata": {},
   "source": [
    "## pandas를 이용해 엑셀 데이터 다루기"
   ]
  },
  {
   "cell_type": "code",
   "execution_count": 15,
   "metadata": {},
   "outputs": [
    {
     "data": {
      "text/html": [
       "<div>\n",
       "<style scoped>\n",
       "    .dataframe tbody tr th:only-of-type {\n",
       "        vertical-align: middle;\n",
       "    }\n",
       "\n",
       "    .dataframe tbody tr th {\n",
       "        vertical-align: top;\n",
       "    }\n",
       "\n",
       "    .dataframe thead th {\n",
       "        text-align: right;\n",
       "    }\n",
       "</style>\n",
       "<table border=\"1\" class=\"dataframe\">\n",
       "  <thead>\n",
       "    <tr style=\"text-align: right;\">\n",
       "      <th></th>\n",
       "      <th>대분류</th>\n",
       "      <th>시도</th>\n",
       "      <th>중분류</th>\n",
       "      <th>시군구</th>\n",
       "      <th>소분류</th>\n",
       "      <th>읍면동</th>\n",
       "      <th>영문 표기</th>\n",
       "      <th>한자 표기</th>\n",
       "    </tr>\n",
       "  </thead>\n",
       "  <tbody>\n",
       "    <tr>\n",
       "      <td>0</td>\n",
       "      <td>11</td>\n",
       "      <td>서울특별시</td>\n",
       "      <td>NaN</td>\n",
       "      <td>NaN</td>\n",
       "      <td>NaN</td>\n",
       "      <td>NaN</td>\n",
       "      <td>Seoul</td>\n",
       "      <td>서울特別市</td>\n",
       "    </tr>\n",
       "    <tr>\n",
       "      <td>1</td>\n",
       "      <td>11</td>\n",
       "      <td>서울특별시</td>\n",
       "      <td>11010</td>\n",
       "      <td>종로구</td>\n",
       "      <td>NaN</td>\n",
       "      <td>NaN</td>\n",
       "      <td>Jongno-gu</td>\n",
       "      <td>鍾路區</td>\n",
       "    </tr>\n",
       "    <tr>\n",
       "      <td>2</td>\n",
       "      <td>11</td>\n",
       "      <td>서울특별시</td>\n",
       "      <td>11010</td>\n",
       "      <td>종로구</td>\n",
       "      <td>1101053</td>\n",
       "      <td>사직동</td>\n",
       "      <td>Sajik-dong</td>\n",
       "      <td>社稷洞</td>\n",
       "    </tr>\n",
       "    <tr>\n",
       "      <td>3</td>\n",
       "      <td>11</td>\n",
       "      <td>서울특별시</td>\n",
       "      <td>11010</td>\n",
       "      <td>종로구</td>\n",
       "      <td>1101054</td>\n",
       "      <td>삼청동</td>\n",
       "      <td>Samcheong-dong</td>\n",
       "      <td>三淸洞</td>\n",
       "    </tr>\n",
       "    <tr>\n",
       "      <td>4</td>\n",
       "      <td>11</td>\n",
       "      <td>서울특별시</td>\n",
       "      <td>11010</td>\n",
       "      <td>종로구</td>\n",
       "      <td>1101055</td>\n",
       "      <td>부암동</td>\n",
       "      <td>Buam-dong</td>\n",
       "      <td>付岩洞</td>\n",
       "    </tr>\n",
       "  </tbody>\n",
       "</table>\n",
       "</div>"
      ],
      "text/plain": [
       "  대분류     시도    중분류  시군구      소분류  읍면동           영문 표기  한자 표기\n",
       "0  11  서울특별시    NaN  NaN      NaN  NaN           Seoul  서울特別市\n",
       "1  11  서울특별시  11010  종로구      NaN  NaN       Jongno-gu    鍾路區\n",
       "2  11  서울특별시  11010  종로구  1101053  사직동      Sajik-dong    社稷洞\n",
       "3  11  서울특별시  11010  종로구  1101054  삼청동  Samcheong-dong    三淸洞\n",
       "4  11  서울특별시  11010  종로구  1101055  부암동       Buam-dong    付岩洞"
      ]
     },
     "execution_count": 15,
     "metadata": {},
     "output_type": "execute_result"
    }
   ],
   "source": [
    "import os\n",
    "import pandas as pd\n",
    "\n",
    "file_name = '한국행정구역분류_2019.10.1. 기준.xls'\n",
    "file_dir = f'{os.getcwd()}/{file_name}'\n",
    "df = pd.read_excel(file_dir, sheet_name='1. 총괄표(현행)', skiprows=2, dtype={'대분류': str, '중분류': str, '소분류': str})\n",
    "df.drop('Unnamed: 0', axis=1, inplace=True)\n",
    "df.head()"
   ]
  },
  {
   "cell_type": "code",
   "execution_count": 16,
   "metadata": {},
   "outputs": [
    {
     "data": {
      "text/html": [
       "<div>\n",
       "<style scoped>\n",
       "    .dataframe tbody tr th:only-of-type {\n",
       "        vertical-align: middle;\n",
       "    }\n",
       "\n",
       "    .dataframe tbody tr th {\n",
       "        vertical-align: top;\n",
       "    }\n",
       "\n",
       "    .dataframe thead th {\n",
       "        text-align: right;\n",
       "    }\n",
       "</style>\n",
       "<table border=\"1\" class=\"dataframe\">\n",
       "  <thead>\n",
       "    <tr style=\"text-align: right;\">\n",
       "      <th></th>\n",
       "      <th>대분류</th>\n",
       "      <th>시도</th>\n",
       "      <th>중분류</th>\n",
       "      <th>시군구</th>\n",
       "      <th>소분류</th>\n",
       "      <th>읍면동</th>\n",
       "      <th>영문 표기</th>\n",
       "      <th>한자 표기</th>\n",
       "    </tr>\n",
       "  </thead>\n",
       "  <tbody>\n",
       "    <tr>\n",
       "      <td>3778</td>\n",
       "      <td>39</td>\n",
       "      <td>제주특별자치도</td>\n",
       "      <td>39020</td>\n",
       "      <td>서귀포시</td>\n",
       "      <td>3902058</td>\n",
       "      <td>서홍동</td>\n",
       "      <td>Seohong-dong</td>\n",
       "      <td>西烘洞</td>\n",
       "    </tr>\n",
       "    <tr>\n",
       "      <td>3779</td>\n",
       "      <td>39</td>\n",
       "      <td>제주특별자치도</td>\n",
       "      <td>39020</td>\n",
       "      <td>서귀포시</td>\n",
       "      <td>3902059</td>\n",
       "      <td>대륜동</td>\n",
       "      <td>Daeryun-dong</td>\n",
       "      <td>大倫洞</td>\n",
       "    </tr>\n",
       "    <tr>\n",
       "      <td>3780</td>\n",
       "      <td>39</td>\n",
       "      <td>제주특별자치도</td>\n",
       "      <td>39020</td>\n",
       "      <td>서귀포시</td>\n",
       "      <td>3902060</td>\n",
       "      <td>대천동</td>\n",
       "      <td>Daecheon-dong</td>\n",
       "      <td>大川洞</td>\n",
       "    </tr>\n",
       "    <tr>\n",
       "      <td>3781</td>\n",
       "      <td>39</td>\n",
       "      <td>제주특별자치도</td>\n",
       "      <td>39020</td>\n",
       "      <td>서귀포시</td>\n",
       "      <td>3902061</td>\n",
       "      <td>중문동</td>\n",
       "      <td>Jungmun-dong</td>\n",
       "      <td>中文洞</td>\n",
       "    </tr>\n",
       "    <tr>\n",
       "      <td>3782</td>\n",
       "      <td>39</td>\n",
       "      <td>제주특별자치도</td>\n",
       "      <td>39020</td>\n",
       "      <td>서귀포시</td>\n",
       "      <td>3902062</td>\n",
       "      <td>예래동</td>\n",
       "      <td>Yerae-dong</td>\n",
       "      <td>猊來洞</td>\n",
       "    </tr>\n",
       "  </tbody>\n",
       "</table>\n",
       "</div>"
      ],
      "text/plain": [
       "     대분류       시도    중분류   시군구      소분류  읍면동          영문 표기 한자 표기\n",
       "3778  39  제주특별자치도  39020  서귀포시  3902058  서홍동   Seohong-dong   西烘洞\n",
       "3779  39  제주특별자치도  39020  서귀포시  3902059  대륜동   Daeryun-dong   大倫洞\n",
       "3780  39  제주특별자치도  39020  서귀포시  3902060  대천동  Daecheon-dong   大川洞\n",
       "3781  39  제주특별자치도  39020  서귀포시  3902061  중문동   Jungmun-dong   中文洞\n",
       "3782  39  제주특별자치도  39020  서귀포시  3902062  예래동     Yerae-dong   猊來洞"
      ]
     },
     "execution_count": 16,
     "metadata": {},
     "output_type": "execute_result"
    }
   ],
   "source": [
    "df.tail()"
   ]
  },
  {
   "cell_type": "markdown",
   "metadata": {},
   "source": [
    "## 법정동 데이터 얻기\n",
    "1. txt파일로 얻기: [행정표준코드 관리시스템](https://www.code.go.kr/)에서 다운받을 수 있다.\n",
    "2. 다음 [url](https://goo.gl/tM6r3v)에서 공유되어 있다."
   ]
  },
  {
   "cell_type": "markdown",
   "metadata": {},
   "source": [
    "## pandas를 이용해 법정동 데이터 다루기"
   ]
  },
  {
   "cell_type": "markdown",
   "metadata": {},
   "source": [
    "### 모든 법정동코드 불러오기"
   ]
  },
  {
   "cell_type": "code",
   "execution_count": 17,
   "metadata": {},
   "outputs": [
    {
     "data": {
      "text/html": [
       "<div>\n",
       "<style scoped>\n",
       "    .dataframe tbody tr th:only-of-type {\n",
       "        vertical-align: middle;\n",
       "    }\n",
       "\n",
       "    .dataframe tbody tr th {\n",
       "        vertical-align: top;\n",
       "    }\n",
       "\n",
       "    .dataframe thead th {\n",
       "        text-align: right;\n",
       "    }\n",
       "</style>\n",
       "<table border=\"1\" class=\"dataframe\">\n",
       "  <thead>\n",
       "    <tr style=\"text-align: right;\">\n",
       "      <th></th>\n",
       "      <th>법정동코드</th>\n",
       "      <th>법정동명</th>\n",
       "      <th>폐지여부</th>\n",
       "    </tr>\n",
       "  </thead>\n",
       "  <tbody>\n",
       "    <tr>\n",
       "      <td>0</td>\n",
       "      <td>1100000000</td>\n",
       "      <td>서울특별시</td>\n",
       "      <td>존재</td>\n",
       "    </tr>\n",
       "    <tr>\n",
       "      <td>1</td>\n",
       "      <td>1111000000</td>\n",
       "      <td>서울특별시 종로구</td>\n",
       "      <td>존재</td>\n",
       "    </tr>\n",
       "    <tr>\n",
       "      <td>2</td>\n",
       "      <td>1111010100</td>\n",
       "      <td>서울특별시 종로구 청운동</td>\n",
       "      <td>존재</td>\n",
       "    </tr>\n",
       "    <tr>\n",
       "      <td>3</td>\n",
       "      <td>1111010200</td>\n",
       "      <td>서울특별시 종로구 신교동</td>\n",
       "      <td>존재</td>\n",
       "    </tr>\n",
       "    <tr>\n",
       "      <td>4</td>\n",
       "      <td>1111010300</td>\n",
       "      <td>서울특별시 종로구 궁정동</td>\n",
       "      <td>존재</td>\n",
       "    </tr>\n",
       "  </tbody>\n",
       "</table>\n",
       "</div>"
      ],
      "text/plain": [
       "        법정동코드           법정동명 폐지여부\n",
       "0  1100000000          서울특별시   존재\n",
       "1  1111000000      서울특별시 종로구   존재\n",
       "2  1111010100  서울특별시 종로구 청운동   존재\n",
       "3  1111010200  서울특별시 종로구 신교동   존재\n",
       "4  1111010300  서울특별시 종로구 궁정동   존재"
      ]
     },
     "execution_count": 17,
     "metadata": {},
     "output_type": "execute_result"
    }
   ],
   "source": [
    "import pandas as pd\n",
    "\n",
    "df_areacode = pd.read_csv('https://goo.gl/tM6r3v', sep='\\t', dtype={'법정동코드': str})\n",
    "df_areacode.head()"
   ]
  },
  {
   "cell_type": "code",
   "execution_count": 18,
   "metadata": {},
   "outputs": [
    {
     "data": {
      "text/plain": [
       "45957"
      ]
     },
     "execution_count": 18,
     "metadata": {},
     "output_type": "execute_result"
    }
   ],
   "source": [
    "len(df_areacode)  # 폐지된 법정동코드도 포함"
   ]
  },
  {
   "cell_type": "markdown",
   "metadata": {},
   "source": [
    "### 존재하는 법정동코드만 얻기"
   ]
  },
  {
   "cell_type": "code",
   "execution_count": 21,
   "metadata": {},
   "outputs": [
    {
     "data": {
      "text/html": [
       "<div>\n",
       "<style scoped>\n",
       "    .dataframe tbody tr th:only-of-type {\n",
       "        vertical-align: middle;\n",
       "    }\n",
       "\n",
       "    .dataframe tbody tr th {\n",
       "        vertical-align: top;\n",
       "    }\n",
       "\n",
       "    .dataframe thead th {\n",
       "        text-align: right;\n",
       "    }\n",
       "</style>\n",
       "<table border=\"1\" class=\"dataframe\">\n",
       "  <thead>\n",
       "    <tr style=\"text-align: right;\">\n",
       "      <th></th>\n",
       "      <th>법정동코드</th>\n",
       "      <th>법정동명</th>\n",
       "      <th>폐지여부</th>\n",
       "    </tr>\n",
       "  </thead>\n",
       "  <tbody>\n",
       "    <tr>\n",
       "      <td>0</td>\n",
       "      <td>1100000000</td>\n",
       "      <td>서울특별시</td>\n",
       "      <td>존재</td>\n",
       "    </tr>\n",
       "    <tr>\n",
       "      <td>1</td>\n",
       "      <td>1111000000</td>\n",
       "      <td>서울특별시 종로구</td>\n",
       "      <td>존재</td>\n",
       "    </tr>\n",
       "    <tr>\n",
       "      <td>2</td>\n",
       "      <td>1111010100</td>\n",
       "      <td>서울특별시 종로구 청운동</td>\n",
       "      <td>존재</td>\n",
       "    </tr>\n",
       "    <tr>\n",
       "      <td>3</td>\n",
       "      <td>1111010200</td>\n",
       "      <td>서울특별시 종로구 신교동</td>\n",
       "      <td>존재</td>\n",
       "    </tr>\n",
       "    <tr>\n",
       "      <td>4</td>\n",
       "      <td>1111010300</td>\n",
       "      <td>서울특별시 종로구 궁정동</td>\n",
       "      <td>존재</td>\n",
       "    </tr>\n",
       "  </tbody>\n",
       "</table>\n",
       "</div>"
      ],
      "text/plain": [
       "        법정동코드           법정동명 폐지여부\n",
       "0  1100000000          서울특별시   존재\n",
       "1  1111000000      서울특별시 종로구   존재\n",
       "2  1111010100  서울특별시 종로구 청운동   존재\n",
       "3  1111010200  서울특별시 종로구 신교동   존재\n",
       "4  1111010300  서울특별시 종로구 궁정동   존재"
      ]
     },
     "execution_count": 21,
     "metadata": {},
     "output_type": "execute_result"
    }
   ],
   "source": [
    "# 존재하는 법정동코드만 얻기\n",
    "df_areacode = df_areacode[df_areacode['폐지여부'] == '존재']\n",
    "df_areacode.head()"
   ]
  },
  {
   "cell_type": "code",
   "execution_count": 22,
   "metadata": {},
   "outputs": [
    {
     "data": {
      "text/plain": [
       "20544"
      ]
     },
     "execution_count": 22,
     "metadata": {},
     "output_type": "execute_result"
    }
   ],
   "source": [
    "len(df_areacode)  # 존재하는 법정동코드만 포함"
   ]
  },
  {
   "cell_type": "markdown",
   "metadata": {},
   "source": [
    "### 시/도에 대한 법정동코드만 이용하기"
   ]
  },
  {
   "cell_type": "code",
   "execution_count": 24,
   "metadata": {},
   "outputs": [
    {
     "data": {
      "text/html": [
       "<div>\n",
       "<style scoped>\n",
       "    .dataframe tbody tr th:only-of-type {\n",
       "        vertical-align: middle;\n",
       "    }\n",
       "\n",
       "    .dataframe tbody tr th {\n",
       "        vertical-align: top;\n",
       "    }\n",
       "\n",
       "    .dataframe thead th {\n",
       "        text-align: right;\n",
       "    }\n",
       "</style>\n",
       "<table border=\"1\" class=\"dataframe\">\n",
       "  <thead>\n",
       "    <tr style=\"text-align: right;\">\n",
       "      <th></th>\n",
       "      <th>법정동코드</th>\n",
       "      <th>법정동명</th>\n",
       "      <th>폐지여부</th>\n",
       "    </tr>\n",
       "  </thead>\n",
       "  <tbody>\n",
       "    <tr>\n",
       "      <td>0</td>\n",
       "      <td>1100000000</td>\n",
       "      <td>서울특별시</td>\n",
       "      <td>존재</td>\n",
       "    </tr>\n",
       "    <tr>\n",
       "      <td>2615</td>\n",
       "      <td>2600000000</td>\n",
       "      <td>부산광역시</td>\n",
       "      <td>존재</td>\n",
       "    </tr>\n",
       "    <tr>\n",
       "      <td>2912</td>\n",
       "      <td>2700000000</td>\n",
       "      <td>대구광역시</td>\n",
       "      <td>존재</td>\n",
       "    </tr>\n",
       "    <tr>\n",
       "      <td>3244</td>\n",
       "      <td>2800000000</td>\n",
       "      <td>인천광역시</td>\n",
       "      <td>존재</td>\n",
       "    </tr>\n",
       "    <tr>\n",
       "      <td>3579</td>\n",
       "      <td>2900000000</td>\n",
       "      <td>광주광역시</td>\n",
       "      <td>존재</td>\n",
       "    </tr>\n",
       "    <tr>\n",
       "      <td>3825</td>\n",
       "      <td>3000000000</td>\n",
       "      <td>대전광역시</td>\n",
       "      <td>존재</td>\n",
       "    </tr>\n",
       "    <tr>\n",
       "      <td>4009</td>\n",
       "      <td>3100000000</td>\n",
       "      <td>울산광역시</td>\n",
       "      <td>존재</td>\n",
       "    </tr>\n",
       "    <tr>\n",
       "      <td>4241</td>\n",
       "      <td>3611000000</td>\n",
       "      <td>세종특별자치시</td>\n",
       "      <td>존재</td>\n",
       "    </tr>\n",
       "    <tr>\n",
       "      <td>4391</td>\n",
       "      <td>4100000000</td>\n",
       "      <td>경기도</td>\n",
       "      <td>존재</td>\n",
       "    </tr>\n",
       "    <tr>\n",
       "      <td>10867</td>\n",
       "      <td>4200000000</td>\n",
       "      <td>강원도</td>\n",
       "      <td>존재</td>\n",
       "    </tr>\n",
       "    <tr>\n",
       "      <td>13666</td>\n",
       "      <td>4300000000</td>\n",
       "      <td>충청북도</td>\n",
       "      <td>존재</td>\n",
       "    </tr>\n",
       "    <tr>\n",
       "      <td>16797</td>\n",
       "      <td>4400000000</td>\n",
       "      <td>충청남도</td>\n",
       "      <td>존재</td>\n",
       "    </tr>\n",
       "    <tr>\n",
       "      <td>22050</td>\n",
       "      <td>4500000000</td>\n",
       "      <td>전라북도</td>\n",
       "      <td>존재</td>\n",
       "    </tr>\n",
       "    <tr>\n",
       "      <td>25397</td>\n",
       "      <td>4600000000</td>\n",
       "      <td>전라남도</td>\n",
       "      <td>존재</td>\n",
       "    </tr>\n",
       "    <tr>\n",
       "      <td>30169</td>\n",
       "      <td>4700000000</td>\n",
       "      <td>경상북도</td>\n",
       "      <td>존재</td>\n",
       "    </tr>\n",
       "    <tr>\n",
       "      <td>39299</td>\n",
       "      <td>4800000000</td>\n",
       "      <td>경상남도</td>\n",
       "      <td>존재</td>\n",
       "    </tr>\n",
       "    <tr>\n",
       "      <td>45741</td>\n",
       "      <td>5000000000</td>\n",
       "      <td>제주특별자치도</td>\n",
       "      <td>존재</td>\n",
       "    </tr>\n",
       "  </tbody>\n",
       "</table>\n",
       "</div>"
      ],
      "text/plain": [
       "            법정동코드     법정동명 폐지여부\n",
       "0      1100000000    서울특별시   존재\n",
       "2615   2600000000    부산광역시   존재\n",
       "2912   2700000000    대구광역시   존재\n",
       "3244   2800000000    인천광역시   존재\n",
       "3579   2900000000    광주광역시   존재\n",
       "3825   3000000000    대전광역시   존재\n",
       "4009   3100000000    울산광역시   존재\n",
       "4241   3611000000  세종특별자치시   존재\n",
       "4391   4100000000      경기도   존재\n",
       "10867  4200000000      강원도   존재\n",
       "13666  4300000000     충청북도   존재\n",
       "16797  4400000000     충청남도   존재\n",
       "22050  4500000000     전라북도   존재\n",
       "25397  4600000000     전라남도   존재\n",
       "30169  4700000000     경상북도   존재\n",
       "39299  4800000000     경상남도   존재\n",
       "45741  5000000000  제주특별자치도   존재"
      ]
     },
     "execution_count": 24,
     "metadata": {},
     "output_type": "execute_result"
    }
   ],
   "source": [
    "# 임의 정수 2자리와 그 뒤에 0이 8개 있는 법정동코드가 세종을 제외한 시/도\n",
    "# 세종특별자치시의 법정동코드는 3611000000\n",
    "\n",
    "df_province = df_areacode[df_areacode['법정동코드'].str.contains('\\d{2}0{8}|36110{6}')]\n",
    "df_province"
   ]
  },
  {
   "cell_type": "code",
   "execution_count": 25,
   "metadata": {},
   "outputs": [
    {
     "data": {
      "text/plain": [
       "17"
      ]
     },
     "execution_count": 25,
     "metadata": {},
     "output_type": "execute_result"
    }
   ],
   "source": [
    "len(df_province)  # 대한민국의 시/도는 모두 17개다."
   ]
  },
  {
   "cell_type": "markdown",
   "metadata": {},
   "source": [
    "### 해당 시/도의 법정동 코드 얻기"
   ]
  },
  {
   "cell_type": "code",
   "execution_count": 26,
   "metadata": {},
   "outputs": [],
   "source": [
    "import pandas as pd\n",
    "\n",
    "def get_areacode(province: str):\n",
    "    df_areacode = pd.read_csv('https://goo.gl/tM6r3v', sep='\\t', dtype={'법정동코드': str, '법정동명': str})\n",
    "    df_areacode = df_areacode[df_areacode['폐지여부'] == '존재']\n",
    "    df_areacode = df_areacode[['법정동코드', '법정동명']]\n",
    "    \n",
    "    df_province = df_areacode[ df_areacode['법정동코드'].str.contains('\\d{2}0{8}|36110{6}')]\n",
    "    \n",
    "    areacode = df_province.loc[df_province['법정동명'] == province, '법정동코드'].values[0]\n",
    "    return areacode"
   ]
  },
  {
   "cell_type": "code",
   "execution_count": 31,
   "metadata": {},
   "outputs": [
    {
     "data": {
      "text/plain": [
       "'1100000000'"
      ]
     },
     "execution_count": 31,
     "metadata": {},
     "output_type": "execute_result"
    }
   ],
   "source": [
    "province = '서울특별시'\n",
    "\n",
    "get_areacode(province)"
   ]
  }
 ],
 "metadata": {
  "kernelspec": {
   "display_name": "Python 3",
   "language": "python",
   "name": "python3"
  },
  "language_info": {
   "codemirror_mode": {
    "name": "ipython",
    "version": 3
   },
   "file_extension": ".py",
   "mimetype": "text/x-python",
   "name": "python",
   "nbconvert_exporter": "python",
   "pygments_lexer": "ipython3",
   "version": "3.7.4"
  }
 },
 "nbformat": 4,
 "nbformat_minor": 2
}
